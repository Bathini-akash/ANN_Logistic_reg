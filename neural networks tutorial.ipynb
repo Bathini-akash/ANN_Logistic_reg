{
 "cells": [
  {
   "cell_type": "code",
   "execution_count": 8,
   "id": "documented-bolivia",
   "metadata": {
    "ExecuteTime": {
     "end_time": "2021-04-16T03:47:55.978107Z",
     "start_time": "2021-04-16T03:47:55.742984Z"
    }
   },
   "outputs": [],
   "source": [
    "%config Completer.use_jedi = False"
   ]
  },
  {
   "cell_type": "code",
   "execution_count": 10,
   "id": "stone-bibliography",
   "metadata": {
    "ExecuteTime": {
     "end_time": "2021-04-16T04:13:52.802137Z",
     "start_time": "2021-04-16T04:13:52.760485Z"
    }
   },
   "outputs": [],
   "source": [
    "import pandas as pd\n",
    "import numpy as np\n",
    "import matplotlib as mpl"
   ]
  },
  {
   "cell_type": "code",
   "execution_count": 26,
   "id": "yellow-barbados",
   "metadata": {
    "ExecuteTime": {
     "end_time": "2021-04-16T04:19:04.528835Z",
     "start_time": "2021-04-16T04:19:04.523650Z"
    }
   },
   "outputs": [],
   "source": [
    "from keras.models import Sequential\n"
   ]
  },
  {
   "cell_type": "code",
   "execution_count": 30,
   "id": "measured-savannah",
   "metadata": {
    "ExecuteTime": {
     "end_time": "2021-04-16T04:43:16.242324Z",
     "start_time": "2021-04-16T04:43:16.215461Z"
    }
   },
   "outputs": [],
   "source": [
    "from keras.layers import Conv2D\n",
    "from keras.layers import MaxPooling2D\n",
    "from keras.layers import Flatten\n",
    "from keras.layers import Dense\n",
    "\n"
   ]
  },
  {
   "cell_type": "code",
   "execution_count": 33,
   "id": "massive-lover",
   "metadata": {
    "ExecuteTime": {
     "end_time": "2021-04-16T04:44:04.534593Z",
     "start_time": "2021-04-16T04:44:04.265705Z"
    }
   },
   "outputs": [],
   "source": [
    "# initialising cnn\n",
    "classifier= Sequential()\n",
    "# step 1 convolution\n",
    "classifier.add(Conv2D  (32,(3,3),input_shape=(64,64,3), activation ='relu')  )\n",
    "#(64,64,3) this is 64 times 64 pixels and each pixel has 3 values like say r g b\n",
    "#activation is activation function\n",
    "# convo2d is used to add layers to the CNN\n",
    "#filters: Integer, the dimensionality of the output space (i.e. the number of output filters in the convolution).\n",
    "#kernel_size: An integer or tuple/list of 2 integers, specifying the height and width of the 2D convolution window. Can be a single integer to specify the same value for all spatial dimensions.\n",
    "\n",
    "# adding second convolutional layer( hidden layer 1)\n",
    "classifier.add(Conv2D(32,(3,3),activation='relu'))\n",
    "classifier.add(MaxPooling2D(pool_size=(2,2)))\n",
    "\n"
   ]
  }
 ],
 "metadata": {
  "hide_input": false,
  "kernelspec": {
   "display_name": "Python 3",
   "language": "python",
   "name": "python3"
  },
  "language_info": {
   "codemirror_mode": {
    "name": "ipython",
    "version": 3
   },
   "file_extension": ".py",
   "mimetype": "text/x-python",
   "name": "python",
   "nbconvert_exporter": "python",
   "pygments_lexer": "ipython3",
   "version": "3.8.8"
  },
  "toc": {
   "base_numbering": 1,
   "nav_menu": {},
   "number_sections": true,
   "sideBar": true,
   "skip_h1_title": false,
   "title_cell": "Table of Contents",
   "title_sidebar": "Contents",
   "toc_cell": false,
   "toc_position": {},
   "toc_section_display": true,
   "toc_window_display": false
  },
  "varInspector": {
   "cols": {
    "lenName": 16,
    "lenType": 16,
    "lenVar": 40
   },
   "kernels_config": {
    "python": {
     "delete_cmd_postfix": "",
     "delete_cmd_prefix": "del ",
     "library": "var_list.py",
     "varRefreshCmd": "print(var_dic_list())"
    },
    "r": {
     "delete_cmd_postfix": ") ",
     "delete_cmd_prefix": "rm(",
     "library": "var_list.r",
     "varRefreshCmd": "cat(var_dic_list()) "
    }
   },
   "types_to_exclude": [
    "module",
    "function",
    "builtin_function_or_method",
    "instance",
    "_Feature"
   ],
   "window_display": false
  }
 },
 "nbformat": 4,
 "nbformat_minor": 5
}
