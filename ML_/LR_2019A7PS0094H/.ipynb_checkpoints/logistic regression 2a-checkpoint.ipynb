{
 "cells": [
  {
   "cell_type": "markdown",
   "id": "annual-fault",
   "metadata": {},
   "source": [
    "# LOGISTIC REGRESSION"
   ]
  },
  {
   "cell_type": "code",
   "execution_count": null,
   "id": "wrong-hello",
   "metadata": {},
   "outputs": [],
   "source": [
    "#It is a special case of linear regression where the target variable is categorical in nature. It uses a log of odds as the dependent variable. Logistic Regression predicts the probability of occurrence of a binary event utilizing a logit function."
   ]
  },
  {
   "cell_type": "markdown",
   "id": "ethical-bacteria",
   "metadata": {},
   "source": [
    "## gradient decent"
   ]
  },
  {
   "cell_type": "code",
   "execution_count": 1,
   "id": "inappropriate-tradition",
   "metadata": {
    "ExecuteTime": {
     "end_time": "2021-04-21T04:42:12.833947Z",
     "start_time": "2021-04-21T04:42:07.856960Z"
    }
   },
   "outputs": [],
   "source": [
    "import csv\n",
    "import pandas as pd\n",
    "from math import exp\n",
    "import math\n",
    "import matplotlib.pyplot as plt\n",
    "import numpy as np\n",
    "import warnings"
   ]
  },
  {
   "cell_type": "code",
   "execution_count": 12,
   "id": "fatty-rotation",
   "metadata": {
    "ExecuteTime": {
     "end_time": "2021-04-21T05:02:38.241743Z",
     "start_time": "2021-04-21T05:02:38.195738Z"
    }
   },
   "outputs": [],
   "source": [
    "warnings.filterwarnings( \"ignore\" )\n",
    "data=pd.read_csv(\"dataset_LR.csv\")\n",
    "total_itr=1\n",
    "flag=1"
   ]
  },
  {
   "cell_type": "code",
   "execution_count": null,
   "id": "descending-synthetic",
   "metadata": {},
   "outputs": [],
   "source": [
    "# using origianl data set"
   ]
  },
  {
   "cell_type": "code",
   "execution_count": 18,
   "id": "classified-chain",
   "metadata": {
    "ExecuteTime": {
     "end_time": "2021-04-21T05:29:35.750677Z",
     "start_time": "2021-04-21T05:29:35.644643Z"
    }
   },
   "outputs": [],
   "source": [
    "def update(X,Y,W):\n",
    "\tA = 1 / ( 1 + np.exp( - (np.dot(X,W[1:])+W[0])))\n",
    "\ttmp=A-Y\n",
    "\tdw=x*tmp\n",
    "\tif tmp==0:\n",
    "\t\tflag=0\n",
    "\tdb=tmp\n",
    "\tW[1:]=W[1:]-rate*dw\n",
    "\tW[0]-=db\n",
    "\treturn W\n",
    "def predict(X,W):\n",
    "\tZ = 1 / ( 1 + np.exp( - ( np.dot(X,W[1:])+W[0]) ) )       \n",
    "\tY = np.where( Z > 0.5, 1, 0)\n",
    "\treturn Y\t\n",
    "def loss(X,W,Y):\n",
    "    #t log(y)+(1-t) log(1-y)\n",
    "\tl=0\n",
    "\tfor x,y in zip(X,Y):\n",
    "\t\ttemp = 1 / ( 1 + np.exp( - (np.dot(x,W[1:])+W[0])))\n",
    "\t\tif temp!=0:\n",
    "\t\t\tl+=y*math.log10(temp)\n",
    "\t\tif 1-temp!=0:\t\n",
    "\t\t\tl+=(1-y)*math.log10(1-temp)\n",
    "\treturn l\n",
    "def accuracy(X,W,Y):\n",
    "\ta=0\n",
    "\ttp=fp=tn=fn=0\t\t\t\n",
    "\tfor x,y in zip(X,Y):\n",
    "\t\ttemp=predict(x,W)\n",
    "\t\tif temp==1 and y==1:\n",
    "\t\t\ttp+=1\n",
    "\t\telif temp==1 and y==0:\n",
    "\t\t\tfp+=1\n",
    "\t\telif temp==0 and y==1:\n",
    "\t\t\tfn+=1\n",
    "\t\telse:\n",
    "\t\t\ttn+=1\n",
    "\ta=100*(tp+tn)/(tp+tn+fp+fn)\t\t\n",
    "\treturn a"
   ]
  },
  {
   "cell_type": "code",
   "execution_count": 20,
   "id": "after-scroll",
   "metadata": {
    "ExecuteTime": {
     "end_time": "2021-04-21T05:32:24.867338Z",
     "start_time": "2021-04-21T05:31:51.006614Z"
    }
   },
   "outputs": [
    {
     "name": "stdout",
     "output_type": "stream",
     "text": [
      "For 1 split:\n",
      "Train data\n",
      "       attr1     attr2   attr3    attr4  class\n",
      "0    3.24030  -3.70820  5.2804  0.41291      0\n",
      "1    1.14720   3.59850  1.9387 -0.43406      0\n",
      "2   -2.70830  -6.82660  7.5339  0.59007      1\n",
      "3   -0.60254   1.72370 -2.1501 -0.77027      1\n",
      "4    2.00510  -6.86380  8.1320 -0.24010      0\n",
      "..       ...       ...     ...      ...    ...\n",
      "955 -2.64790  10.13740 -1.3310 -5.47070      0\n",
      "956  4.09720   0.46972  1.6671  0.91593      0\n",
      "957  2.66060   3.16810  1.9619  0.18662      0\n",
      "958 -3.00000  -9.15660  9.5766 -0.73018      1\n",
      "959  3.80270   0.81529  2.1041  1.02450      0\n",
      "\n",
      "[960 rows x 5 columns]\n",
      "Test data\n",
      "       attr1     attr2     attr3    attr4  class\n",
      "0   -2.25010   3.31290  -0.88369 -2.89740      1\n",
      "1   -1.18590  -1.25190   2.26350  0.77239      1\n",
      "2   -1.80760  -8.81310   8.70860 -0.21682      1\n",
      "3   -3.38630 -12.98890  13.05450 -2.72020      1\n",
      "4   -1.41060  -7.10800   5.64540  0.31335      1\n",
      "..       ...       ...       ...      ...    ...\n",
      "407  0.40614   1.34920  -1.45010 -0.55949      1\n",
      "408 -1.38870  -4.87730   6.47740  0.34179      1\n",
      "409 -3.75030 -13.45860  17.59320 -2.77710      1\n",
      "410 -3.56370  -8.38270  12.39300 -1.28230      1\n",
      "411 -2.54190  -0.65804   2.68420  1.19520      1\n",
      "\n",
      "[412 rows x 5 columns]\n",
      "[ 4.23341467 -4.1880022  -2.45000681 -2.96424762 -0.31359496]\n",
      "For Training data:\n",
      "Accuracy: 98.95833333333334%\n",
      "Precison: 98.60788863109049%\n",
      "Recall: 99.06759906759906%\n",
      "F1 Score: 98.83720930232558%\n",
      "For Testing data:\n",
      "Accuracy: 99.51456310679612%\n",
      "Precison: 100.0%\n",
      "Recall: 99.51456310679612%\n",
      "F1 Score: 99.7566909975669%\n"
     ]
    },
    {
     "data": {
      "image/png": "[encoded data removed]",
      "text/plain": [
       "<Figure size 432x288 with 1 Axes>"
      ]
     },
     "metadata": {
      "needs_background": "light"
     },
     "output_type": "display_data"
    },
    {
     "data": {
      "image/png": "[encoded data removed]",
      "text/plain": [
       "<Figure size 432x288 with 1 Axes>"
      ]
     },
     "metadata": {
      "needs_background": "light"
     },
     "output_type": "display_data"
    },
    {
     "name": "stdout",
     "output_type": "stream",
     "text": [
      "For learning rate: 0.001\n",
      "Average loss: [-0.31625054]\n",
      "Average accuracy: 9.951456310679612%\n",
      "Average precision: 10.0%\n",
      "Average recall: 9.951456310679612%\n",
      "Average F1 Score: 9.975669099756692%\n"
     ]
    },
    {
     "ename": "ValueError",
     "evalue": "x and y must be the same size",
     "output_type": "error",
     "traceback": [
      "\u001b[0;31m---------------------------------------------------------------------------\u001b[0m",
      "\u001b[0;31mValueError\u001b[0m                                Traceback (most recent call last)",
      "\u001b[0;32m<ipython-input-20-00954e4aa3a6>\u001b[0m in \u001b[0;36m<module>\u001b[0;34m\u001b[0m\n\u001b[1;32m    104\u001b[0m         \u001b[0mprint\u001b[0m\u001b[0;34m(\u001b[0m\u001b[0;34m\"Average F1 Score: {}%\"\u001b[0m\u001b[0;34m.\u001b[0m\u001b[0mformat\u001b[0m\u001b[0;34m(\u001b[0m\u001b[0mavg_score\u001b[0m\u001b[0;34m*\u001b[0m\u001b[0;36m10\u001b[0m\u001b[0;34m)\u001b[0m\u001b[0;34m)\u001b[0m\u001b[0;34m\u001b[0m\u001b[0;34m\u001b[0m\u001b[0m\n\u001b[1;32m    105\u001b[0m         \u001b[0mx\u001b[0m\u001b[0;34m=\u001b[0m\u001b[0mnp\u001b[0m\u001b[0;34m.\u001b[0m\u001b[0mlinspace\u001b[0m\u001b[0;34m(\u001b[0m\u001b[0;36m0\u001b[0m\u001b[0;34m,\u001b[0m\u001b[0;36m10\u001b[0m\u001b[0;34m,\u001b[0m\u001b[0;36m10\u001b[0m\u001b[0;34m)\u001b[0m\u001b[0;34m\u001b[0m\u001b[0;34m\u001b[0m\u001b[0m\n\u001b[0;32m--> 106\u001b[0;31m         \u001b[0mplt\u001b[0m\u001b[0;34m.\u001b[0m\u001b[0mscatter\u001b[0m\u001b[0;34m(\u001b[0m\u001b[0mx\u001b[0m\u001b[0;34m,\u001b[0m\u001b[0mtest_acc\u001b[0m\u001b[0;34m)\u001b[0m\u001b[0;34m\u001b[0m\u001b[0;34m\u001b[0m\u001b[0m\n\u001b[0m\u001b[1;32m    107\u001b[0m         \u001b[0mplt\u001b[0m\u001b[0;34m.\u001b[0m\u001b[0mtitle\u001b[0m\u001b[0;34m(\u001b[0m\u001b[0;34m\"Accuracy\"\u001b[0m\u001b[0;34m)\u001b[0m\u001b[0;34m\u001b[0m\u001b[0;34m\u001b[0m\u001b[0m\n\u001b[1;32m    108\u001b[0m         \u001b[0mplt\u001b[0m\u001b[0;34m.\u001b[0m\u001b[0mshow\u001b[0m\u001b[0;34m(\u001b[0m\u001b[0;34m)\u001b[0m\u001b[0;34m\u001b[0m\u001b[0;34m\u001b[0m\u001b[0m\n",
      "\u001b[0;32m/opt/anaconda3/envs/myenv/lib/python3.8/site-packages/matplotlib/pyplot.py\u001b[0m in \u001b[0;36mscatter\u001b[0;34m(x, y, s, c, marker, cmap, norm, vmin, vmax, alpha, linewidths, verts, edgecolors, plotnonfinite, data, **kwargs)\u001b[0m\n\u001b[1;32m   2888\u001b[0m         \u001b[0mverts\u001b[0m\u001b[0;34m=\u001b[0m\u001b[0mcbook\u001b[0m\u001b[0;34m.\u001b[0m\u001b[0mdeprecation\u001b[0m\u001b[0;34m.\u001b[0m\u001b[0m_deprecated_parameter\u001b[0m\u001b[0;34m,\u001b[0m\u001b[0;34m\u001b[0m\u001b[0;34m\u001b[0m\u001b[0m\n\u001b[1;32m   2889\u001b[0m         edgecolors=None, *, plotnonfinite=False, data=None, **kwargs):\n\u001b[0;32m-> 2890\u001b[0;31m     __ret = gca().scatter(\n\u001b[0m\u001b[1;32m   2891\u001b[0m         \u001b[0mx\u001b[0m\u001b[0;34m,\u001b[0m \u001b[0my\u001b[0m\u001b[0;34m,\u001b[0m \u001b[0ms\u001b[0m\u001b[0;34m=\u001b[0m\u001b[0ms\u001b[0m\u001b[0;34m,\u001b[0m \u001b[0mc\u001b[0m\u001b[0;34m=\u001b[0m\u001b[0mc\u001b[0m\u001b[0;34m,\u001b[0m \u001b[0mmarker\u001b[0m\u001b[0;34m=\u001b[0m\u001b[0mmarker\u001b[0m\u001b[0;34m,\u001b[0m \u001b[0mcmap\u001b[0m\u001b[0;34m=\u001b[0m\u001b[0mcmap\u001b[0m\u001b[0;34m,\u001b[0m \u001b[0mnorm\u001b[0m\u001b[0;34m=\u001b[0m\u001b[0mnorm\u001b[0m\u001b[0;34m,\u001b[0m\u001b[0;34m\u001b[0m\u001b[0;34m\u001b[0m\u001b[0m\n\u001b[1;32m   2892\u001b[0m         \u001b[0mvmin\u001b[0m\u001b[0;34m=\u001b[0m\u001b[0mvmin\u001b[0m\u001b[0;34m,\u001b[0m \u001b[0mvmax\u001b[0m\u001b[0;34m=\u001b[0m\u001b[0mvmax\u001b[0m\u001b[0;34m,\u001b[0m \u001b[0malpha\u001b[0m\u001b[0;34m=\u001b[0m\u001b[0malpha\u001b[0m\u001b[0;34m,\u001b[0m \u001b[0mlinewidths\u001b[0m\u001b[0;34m=\u001b[0m\u001b[0mlinewidths\u001b[0m\u001b[0;34m,\u001b[0m\u001b[0;34m\u001b[0m\u001b[0;34m\u001b[0m\u001b[0m\n",
      "\u001b[0;32m/opt/anaconda3/envs/myenv/lib/python3.8/site-packages/matplotlib/__init__.py\u001b[0m in \u001b[0;36minner\u001b[0;34m(ax, data, *args, **kwargs)\u001b[0m\n\u001b[1;32m   1445\u001b[0m     \u001b[0;32mdef\u001b[0m \u001b[0minner\u001b[0m\u001b[0;34m(\u001b[0m\u001b[0max\u001b[0m\u001b[0;34m,\u001b[0m \u001b[0;34m*\u001b[0m\u001b[0margs\u001b[0m\u001b[0;34m,\u001b[0m \u001b[0mdata\u001b[0m\u001b[0;34m=\u001b[0m\u001b[0;32mNone\u001b[0m\u001b[0;34m,\u001b[0m \u001b[0;34m**\u001b[0m\u001b[0mkwargs\u001b[0m\u001b[0;34m)\u001b[0m\u001b[0;34m:\u001b[0m\u001b[0;34m\u001b[0m\u001b[0;34m\u001b[0m\u001b[0m\n\u001b[1;32m   1446\u001b[0m         \u001b[0;32mif\u001b[0m \u001b[0mdata\u001b[0m \u001b[0;32mis\u001b[0m \u001b[0;32mNone\u001b[0m\u001b[0;34m:\u001b[0m\u001b[0;34m\u001b[0m\u001b[0;34m\u001b[0m\u001b[0m\n\u001b[0;32m-> 1447\u001b[0;31m             \u001b[0;32mreturn\u001b[0m \u001b[0mfunc\u001b[0m\u001b[0;34m(\u001b[0m\u001b[0max\u001b[0m\u001b[0;34m,\u001b[0m \u001b[0;34m*\u001b[0m\u001b[0mmap\u001b[0m\u001b[0;34m(\u001b[0m\u001b[0msanitize_sequence\u001b[0m\u001b[0;34m,\u001b[0m \u001b[0margs\u001b[0m\u001b[0;34m)\u001b[0m\u001b[0;34m,\u001b[0m \u001b[0;34m**\u001b[0m\u001b[0mkwargs\u001b[0m\u001b[0;34m)\u001b[0m\u001b[0;34m\u001b[0m\u001b[0;34m\u001b[0m\u001b[0m\n\u001b[0m\u001b[1;32m   1448\u001b[0m \u001b[0;34m\u001b[0m\u001b[0m\n\u001b[1;32m   1449\u001b[0m         \u001b[0mbound\u001b[0m \u001b[0;34m=\u001b[0m \u001b[0mnew_sig\u001b[0m\u001b[0;34m.\u001b[0m\u001b[0mbind\u001b[0m\u001b[0;34m(\u001b[0m\u001b[0max\u001b[0m\u001b[0;34m,\u001b[0m \u001b[0;34m*\u001b[0m\u001b[0margs\u001b[0m\u001b[0;34m,\u001b[0m \u001b[0;34m**\u001b[0m\u001b[0mkwargs\u001b[0m\u001b[0;34m)\u001b[0m\u001b[0;34m\u001b[0m\u001b[0;34m\u001b[0m\u001b[0m\n",
      "\u001b[0;32m/opt/anaconda3/envs/myenv/lib/python3.8/site-packages/matplotlib/cbook/deprecation.py\u001b[0m in \u001b[0;36mwrapper\u001b[0;34m(*inner_args, **inner_kwargs)\u001b[0m\n\u001b[1;32m    409\u001b[0m                          \u001b[0;32melse\u001b[0m \u001b[0mdeprecation_addendum\u001b[0m\u001b[0;34m,\u001b[0m\u001b[0;34m\u001b[0m\u001b[0;34m\u001b[0m\u001b[0m\n\u001b[1;32m    410\u001b[0m                 **kwargs)\n\u001b[0;32m--> 411\u001b[0;31m         \u001b[0;32mreturn\u001b[0m \u001b[0mfunc\u001b[0m\u001b[0;34m(\u001b[0m\u001b[0;34m*\u001b[0m\u001b[0minner_args\u001b[0m\u001b[0;34m,\u001b[0m \u001b[0;34m**\u001b[0m\u001b[0minner_kwargs\u001b[0m\u001b[0;34m)\u001b[0m\u001b[0;34m\u001b[0m\u001b[0;34m\u001b[0m\u001b[0m\n\u001b[0m\u001b[1;32m    412\u001b[0m \u001b[0;34m\u001b[0m\u001b[0m\n\u001b[1;32m    413\u001b[0m     \u001b[0;32mreturn\u001b[0m \u001b[0mwrapper\u001b[0m\u001b[0;34m\u001b[0m\u001b[0;34m\u001b[0m\u001b[0m\n",
      "\u001b[0;32m/opt/anaconda3/envs/myenv/lib/python3.8/site-packages/matplotlib/axes/_axes.py\u001b[0m in \u001b[0;36mscatter\u001b[0;34m(self, x, y, s, c, marker, cmap, norm, vmin, vmax, alpha, linewidths, verts, edgecolors, plotnonfinite, **kwargs)\u001b[0m\n\u001b[1;32m   4439\u001b[0m         \u001b[0my\u001b[0m \u001b[0;34m=\u001b[0m \u001b[0mnp\u001b[0m\u001b[0;34m.\u001b[0m\u001b[0mma\u001b[0m\u001b[0;34m.\u001b[0m\u001b[0mravel\u001b[0m\u001b[0;34m(\u001b[0m\u001b[0my\u001b[0m\u001b[0;34m)\u001b[0m\u001b[0;34m\u001b[0m\u001b[0;34m\u001b[0m\u001b[0m\n\u001b[1;32m   4440\u001b[0m         \u001b[0;32mif\u001b[0m \u001b[0mx\u001b[0m\u001b[0;34m.\u001b[0m\u001b[0msize\u001b[0m \u001b[0;34m!=\u001b[0m \u001b[0my\u001b[0m\u001b[0;34m.\u001b[0m\u001b[0msize\u001b[0m\u001b[0;34m:\u001b[0m\u001b[0;34m\u001b[0m\u001b[0;34m\u001b[0m\u001b[0m\n\u001b[0;32m-> 4441\u001b[0;31m             \u001b[0;32mraise\u001b[0m \u001b[0mValueError\u001b[0m\u001b[0;34m(\u001b[0m\u001b[0;34m\"x and y must be the same size\"\u001b[0m\u001b[0;34m)\u001b[0m\u001b[0;34m\u001b[0m\u001b[0;34m\u001b[0m\u001b[0m\n\u001b[0m\u001b[1;32m   4442\u001b[0m \u001b[0;34m\u001b[0m\u001b[0m\n\u001b[1;32m   4443\u001b[0m         \u001b[0;32mif\u001b[0m \u001b[0ms\u001b[0m \u001b[0;32mis\u001b[0m \u001b[0;32mNone\u001b[0m\u001b[0;34m:\u001b[0m\u001b[0;34m\u001b[0m\u001b[0;34m\u001b[0m\u001b[0m\n",
      "\u001b[0;31mValueError\u001b[0m: x and y must be the same size"
     ]
    },
    {
     "data": {
      "image/png": "[encoded data removed]",
      "text/plain": [
       "<Figure size 432x288 with 1 Axes>"
      ]
     },
     "metadata": {
      "needs_background": "light"
     },
     "output_type": "display_data"
    }
   ],
   "source": [
    "for q in range(3):\n",
    "\tavg_loss=avg_acc=avg_prec=avg_recall=avg_score=0\n",
    "\ttest_acc=[]\n",
    "\tif q==0:\n",
    "\t\trate=0.001\n",
    "\telif q==1:\n",
    "\t\trate=0.01\n",
    "\telse:\n",
    "\t\trate=0.1\t\t\n",
    "\tfor g in range(total_itr):\n",
    "\t\ttrain_data=data.sample(frac=0.7).reset_index(drop=True)\t\n",
    "\t\ttest_data =data.drop(train_data.index).reset_index(drop=True)\n",
    "\t\ttrain_data = train_data.reset_index(drop=True)\n",
    "\t\tprint(\"For {} split:\".format(g+1))\n",
    "\t\tprint(\"Train data\")\n",
    "\t\tprint(train_data)\n",
    "\t\tprint(\"Test data\")\n",
    "\t\tprint(test_data)\n",
    "\t\ttotal_loss=[]\n",
    "\t\tx_values=[]\n",
    "\t\tacc=[]\n",
    "\t\tX_train=train_data.iloc[:,0:4].values\n",
    "\t\tY_train=train_data.iloc[:,-1:].values\n",
    "\t\tX_test=test_data.iloc[:,0:4].values\n",
    "\t\tY_test=test_data.iloc[:,-1:].values\n",
    "\t\tw=np.zeros(train_data.shape[1])\n",
    "\t\titerations=1000\n",
    "\t\tm,n=train_data.shape\n",
    "\t\tfor i in range(iterations):\n",
    "\t\t\tk=1\n",
    "\t\t\tfor x,y in zip(X_train,Y_train):\n",
    "\t\t\t\tflag=1\n",
    "\t\t\t\tw=update(x,y,w)\n",
    "\t\t\t\tif flag==1:\n",
    "\t\t\t\t\tk=1\n",
    "\t\t\t\telse:\n",
    "\t\t\t\t\tk=0\t\n",
    "\t\t\tif (i%50) == 0:\n",
    "\t\t\t\tl=loss(X_train,w,Y_train)\n",
    "\t\t\t\ttotal_loss.append(-1*l)\n",
    "\t\t\t\tacc.append(accuracy(X_train,w,Y_train))\n",
    "\t\t\t\tx_values.append(i)\t\t\t\n",
    "\t\t\tif k==0:\n",
    "\t\t\t\tbreak\t\t\n",
    "\t\tprint(w)\n",
    "\t\ttp=fp=tn=fn=0\t\t\t\n",
    "\t\tfor x,y in zip(X_train,Y_train):\n",
    "\t\t\ttemp=predict(x,w)\n",
    "\t\t\tif temp==1 and y==1:\n",
    "\t\t\t\ttp+=1\n",
    "\t\t\telif temp==1 and y==0:\n",
    "\t\t\t\tfp+=1\n",
    "\t\t\telif temp==0 and y==1:\n",
    "\t\t\t\tfn+=1\n",
    "\t\t\telse:\n",
    "\t\t\t\ttn+=1\t\n",
    "\t\taccu=(tp+tn)/(tp+tn+fp+fn)\n",
    "\t\tprecision=tp/(tp+fp)\n",
    "\t\trecall=tp/(tp+fn)\n",
    "\t\tfscore=(2*precision*recall)/(precision+recall)\t\n",
    "\t\tprint(\"For Training data:\")\t\t\t\n",
    "\t\tprint(\"Accuracy: {}%\".format(accu*100))\n",
    "\t\tprint(\"Precison: {}%\".format(precision*100))\n",
    "\t\tprint(\"Recall: {}%\".format(recall*100))\n",
    "\t\tprint(\"F1 Score: {}%\".format(fscore*100))\n",
    "\t\ttp=fp=tn=fn=0\t\t\t\n",
    "\t\tfor x,y in zip(X_test,Y_test):\n",
    "\t\t\ttemp=predict(x,w)\n",
    "\t\t\tif temp==1 and y==1:\n",
    "\t\t\t\ttp+=1\n",
    "\t\t\telif temp==1 and y==0:\n",
    "\t\t\t\tfp+=1\n",
    "\t\t\telif temp==0 and y==1:\n",
    "\t\t\t\tfn+=1\n",
    "\t\t\telse:\n",
    "\t\t\t\ttn+=1\t\n",
    "\t\taccu=(tp+tn)/(tp+tn+fp+fn)\n",
    "\t\tl=loss(X_test,w,Y_test)\n",
    "\t\tavg_loss+=l\n",
    "\t\tprecision=tp/(tp+fp)\n",
    "\t\trecall=tp/(tp+fn)\n",
    "\t\tfscore=(2*precision*recall)/(precision+recall)\t\n",
    "\t\tprint(\"For Testing data:\")\n",
    "\t\tavg_acc+=accu\n",
    "\t\tavg_prec+=precision\n",
    "\t\tavg_recall+=recall\n",
    "\t\tavg_score+=fscore\t\t\t\n",
    "\t\ttest_acc.append((accu*100))\n",
    "\t\tprint(\"Accuracy: {}%\".format(accu*100))\n",
    "\t\tprint(\"Precison: {}%\".format(precision*100))\n",
    "\t\tprint(\"Recall: {}%\".format(recall*100))\n",
    "\t\tprint(\"F1 Score: {}%\".format(fscore*100))\n",
    "\t\tplt.scatter(x_values,total_loss)\t\n",
    "\t\tplt.title(\"Loss on training data\")\n",
    "\t\tplt.show()\t\t\n",
    "\t\tplt.scatter(x_values,acc)\n",
    "\t\tplt.title(\"Accuracy over training data\")\n",
    "\t\tplt.show()\n",
    "\tprint(\"For learning rate: {}\".format(rate))\t\n",
    "\tprint(\"Average loss: {}\".format(avg_loss/10))\t\n",
    "\tprint(\"Average accuracy: {}%\".format(avg_acc*10))\n",
    "\tprint(\"Average precision: {}%\".format(avg_prec*10))\n",
    "\tprint(\"Average recall: {}%\".format(avg_recall*10))\n",
    "\tprint(\"Average F1 Score: {}%\".format(avg_score*10))\t\n",
    "\tx=np.linspace(0,10,10)\t\n",
    "\tplt.scatter(x,test_acc)\t\n",
    "\tplt.title(\"Accuracy\")\n",
    "\tplt.show()\t\t"
   ]
  },
  {
   "cell_type": "code",
   "execution_count": 16,
   "id": "dirty-diameter",
   "metadata": {
    "ExecuteTime": {
     "end_time": "2021-04-21T05:14:11.478717Z",
     "start_time": "2021-04-21T05:14:10.282809Z"
    }
   },
   "outputs": [
    {
     "name": "stdout",
     "output_type": "stream",
     "text": [
      "For learning rate: 0.1\n",
      "Average loss: [-0.52010669]\n",
      "Average accuracy: 9.927184466019417%\n",
      "Average precision: 10.0%\n",
      "Average recall: 9.927184466019417%\n",
      "Average F1 Score: 9.963459196102315%\n"
     ]
    },
    {
     "ename": "ValueError",
     "evalue": "x and y must be the same size",
     "output_type": "error",
     "traceback": [
      "\u001b[0;31m---------------------------------------------------------------------------\u001b[0m",
      "\u001b[0;31mValueError\u001b[0m                                Traceback (most recent call last)",
      "\u001b[0;32m<ipython-input-16-cd512a262a50>\u001b[0m in \u001b[0;36m<module>\u001b[0;34m\u001b[0m\n\u001b[1;32m      6\u001b[0m \u001b[0mprint\u001b[0m\u001b[0;34m(\u001b[0m\u001b[0;34m\"Average F1 Score: {}%\"\u001b[0m\u001b[0;34m.\u001b[0m\u001b[0mformat\u001b[0m\u001b[0;34m(\u001b[0m\u001b[0mavg_score\u001b[0m\u001b[0;34m*\u001b[0m\u001b[0;36m10\u001b[0m\u001b[0;34m)\u001b[0m\u001b[0;34m)\u001b[0m\u001b[0;34m\u001b[0m\u001b[0;34m\u001b[0m\u001b[0m\n\u001b[1;32m      7\u001b[0m \u001b[0mx\u001b[0m\u001b[0;34m=\u001b[0m\u001b[0mnp\u001b[0m\u001b[0;34m.\u001b[0m\u001b[0mlinspace\u001b[0m\u001b[0;34m(\u001b[0m\u001b[0;36m0\u001b[0m\u001b[0;34m,\u001b[0m\u001b[0;36m10\u001b[0m\u001b[0;34m,\u001b[0m\u001b[0;36m10\u001b[0m\u001b[0;34m)\u001b[0m\u001b[0;34m\u001b[0m\u001b[0;34m\u001b[0m\u001b[0m\n\u001b[0;32m----> 8\u001b[0;31m \u001b[0mplt\u001b[0m\u001b[0;34m.\u001b[0m\u001b[0mscatter\u001b[0m\u001b[0;34m(\u001b[0m\u001b[0mx\u001b[0m\u001b[0;34m,\u001b[0m\u001b[0mtest_acc\u001b[0m\u001b[0;34m)\u001b[0m\u001b[0;34m\u001b[0m\u001b[0;34m\u001b[0m\u001b[0m\n\u001b[0m\u001b[1;32m      9\u001b[0m \u001b[0mplt\u001b[0m\u001b[0;34m.\u001b[0m\u001b[0mtitle\u001b[0m\u001b[0;34m(\u001b[0m\u001b[0;34m\"Accuracy\"\u001b[0m\u001b[0;34m)\u001b[0m\u001b[0;34m\u001b[0m\u001b[0;34m\u001b[0m\u001b[0m\n\u001b[1;32m     10\u001b[0m \u001b[0mplt\u001b[0m\u001b[0;34m.\u001b[0m\u001b[0mshow\u001b[0m\u001b[0;34m(\u001b[0m\u001b[0;34m)\u001b[0m\u001b[0;34m\u001b[0m\u001b[0;34m\u001b[0m\u001b[0m\n",
      "\u001b[0;32m/opt/anaconda3/envs/myenv/lib/python3.8/site-packages/matplotlib/pyplot.py\u001b[0m in \u001b[0;36mscatter\u001b[0;34m(x, y, s, c, marker, cmap, norm, vmin, vmax, alpha, linewidths, verts, edgecolors, plotnonfinite, data, **kwargs)\u001b[0m\n\u001b[1;32m   2888\u001b[0m         \u001b[0mverts\u001b[0m\u001b[0;34m=\u001b[0m\u001b[0mcbook\u001b[0m\u001b[0;34m.\u001b[0m\u001b[0mdeprecation\u001b[0m\u001b[0;34m.\u001b[0m\u001b[0m_deprecated_parameter\u001b[0m\u001b[0;34m,\u001b[0m\u001b[0;34m\u001b[0m\u001b[0;34m\u001b[0m\u001b[0m\n\u001b[1;32m   2889\u001b[0m         edgecolors=None, *, plotnonfinite=False, data=None, **kwargs):\n\u001b[0;32m-> 2890\u001b[0;31m     __ret = gca().scatter(\n\u001b[0m\u001b[1;32m   2891\u001b[0m         \u001b[0mx\u001b[0m\u001b[0;34m,\u001b[0m \u001b[0my\u001b[0m\u001b[0;34m,\u001b[0m \u001b[0ms\u001b[0m\u001b[0;34m=\u001b[0m\u001b[0ms\u001b[0m\u001b[0;34m,\u001b[0m \u001b[0mc\u001b[0m\u001b[0;34m=\u001b[0m\u001b[0mc\u001b[0m\u001b[0;34m,\u001b[0m \u001b[0mmarker\u001b[0m\u001b[0;34m=\u001b[0m\u001b[0mmarker\u001b[0m\u001b[0;34m,\u001b[0m \u001b[0mcmap\u001b[0m\u001b[0;34m=\u001b[0m\u001b[0mcmap\u001b[0m\u001b[0;34m,\u001b[0m \u001b[0mnorm\u001b[0m\u001b[0;34m=\u001b[0m\u001b[0mnorm\u001b[0m\u001b[0;34m,\u001b[0m\u001b[0;34m\u001b[0m\u001b[0;34m\u001b[0m\u001b[0m\n\u001b[1;32m   2892\u001b[0m         \u001b[0mvmin\u001b[0m\u001b[0;34m=\u001b[0m\u001b[0mvmin\u001b[0m\u001b[0;34m,\u001b[0m \u001b[0mvmax\u001b[0m\u001b[0;34m=\u001b[0m\u001b[0mvmax\u001b[0m\u001b[0;34m,\u001b[0m \u001b[0malpha\u001b[0m\u001b[0;34m=\u001b[0m\u001b[0malpha\u001b[0m\u001b[0;34m,\u001b[0m \u001b[0mlinewidths\u001b[0m\u001b[0;34m=\u001b[0m\u001b[0mlinewidths\u001b[0m\u001b[0;34m,\u001b[0m\u001b[0;34m\u001b[0m\u001b[0;34m\u001b[0m\u001b[0m\n",
      "\u001b[0;32m/opt/anaconda3/envs/myenv/lib/python3.8/site-packages/matplotlib/__init__.py\u001b[0m in \u001b[0;36minner\u001b[0;34m(ax, data, *args, **kwargs)\u001b[0m\n\u001b[1;32m   1445\u001b[0m     \u001b[0;32mdef\u001b[0m \u001b[0minner\u001b[0m\u001b[0;34m(\u001b[0m\u001b[0max\u001b[0m\u001b[0;34m,\u001b[0m \u001b[0;34m*\u001b[0m\u001b[0margs\u001b[0m\u001b[0;34m,\u001b[0m \u001b[0mdata\u001b[0m\u001b[0;34m=\u001b[0m\u001b[0;32mNone\u001b[0m\u001b[0;34m,\u001b[0m \u001b[0;34m**\u001b[0m\u001b[0mkwargs\u001b[0m\u001b[0;34m)\u001b[0m\u001b[0;34m:\u001b[0m\u001b[0;34m\u001b[0m\u001b[0;34m\u001b[0m\u001b[0m\n\u001b[1;32m   1446\u001b[0m         \u001b[0;32mif\u001b[0m \u001b[0mdata\u001b[0m \u001b[0;32mis\u001b[0m \u001b[0;32mNone\u001b[0m\u001b[0;34m:\u001b[0m\u001b[0;34m\u001b[0m\u001b[0;34m\u001b[0m\u001b[0m\n\u001b[0;32m-> 1447\u001b[0;31m             \u001b[0;32mreturn\u001b[0m \u001b[0mfunc\u001b[0m\u001b[0;34m(\u001b[0m\u001b[0max\u001b[0m\u001b[0;34m,\u001b[0m \u001b[0;34m*\u001b[0m\u001b[0mmap\u001b[0m\u001b[0;34m(\u001b[0m\u001b[0msanitize_sequence\u001b[0m\u001b[0;34m,\u001b[0m \u001b[0margs\u001b[0m\u001b[0;34m)\u001b[0m\u001b[0;34m,\u001b[0m \u001b[0;34m**\u001b[0m\u001b[0mkwargs\u001b[0m\u001b[0;34m)\u001b[0m\u001b[0;34m\u001b[0m\u001b[0;34m\u001b[0m\u001b[0m\n\u001b[0m\u001b[1;32m   1448\u001b[0m \u001b[0;34m\u001b[0m\u001b[0m\n\u001b[1;32m   1449\u001b[0m         \u001b[0mbound\u001b[0m \u001b[0;34m=\u001b[0m \u001b[0mnew_sig\u001b[0m\u001b[0;34m.\u001b[0m\u001b[0mbind\u001b[0m\u001b[0;34m(\u001b[0m\u001b[0max\u001b[0m\u001b[0;34m,\u001b[0m \u001b[0;34m*\u001b[0m\u001b[0margs\u001b[0m\u001b[0;34m,\u001b[0m \u001b[0;34m**\u001b[0m\u001b[0mkwargs\u001b[0m\u001b[0;34m)\u001b[0m\u001b[0;34m\u001b[0m\u001b[0;34m\u001b[0m\u001b[0m\n",
      "\u001b[0;32m/opt/anaconda3/envs/myenv/lib/python3.8/site-packages/matplotlib/cbook/deprecation.py\u001b[0m in \u001b[0;36mwrapper\u001b[0;34m(*inner_args, **inner_kwargs)\u001b[0m\n\u001b[1;32m    409\u001b[0m                          \u001b[0;32melse\u001b[0m \u001b[0mdeprecation_addendum\u001b[0m\u001b[0;34m,\u001b[0m\u001b[0;34m\u001b[0m\u001b[0;34m\u001b[0m\u001b[0m\n\u001b[1;32m    410\u001b[0m                 **kwargs)\n\u001b[0;32m--> 411\u001b[0;31m         \u001b[0;32mreturn\u001b[0m \u001b[0mfunc\u001b[0m\u001b[0;34m(\u001b[0m\u001b[0;34m*\u001b[0m\u001b[0minner_args\u001b[0m\u001b[0;34m,\u001b[0m \u001b[0;34m**\u001b[0m\u001b[0minner_kwargs\u001b[0m\u001b[0;34m)\u001b[0m\u001b[0;34m\u001b[0m\u001b[0;34m\u001b[0m\u001b[0m\n\u001b[0m\u001b[1;32m    412\u001b[0m \u001b[0;34m\u001b[0m\u001b[0m\n\u001b[1;32m    413\u001b[0m     \u001b[0;32mreturn\u001b[0m \u001b[0mwrapper\u001b[0m\u001b[0;34m\u001b[0m\u001b[0;34m\u001b[0m\u001b[0m\n",
      "\u001b[0;32m/opt/anaconda3/envs/myenv/lib/python3.8/site-packages/matplotlib/axes/_axes.py\u001b[0m in \u001b[0;36mscatter\u001b[0;34m(self, x, y, s, c, marker, cmap, norm, vmin, vmax, alpha, linewidths, verts, edgecolors, plotnonfinite, **kwargs)\u001b[0m\n\u001b[1;32m   4439\u001b[0m         \u001b[0my\u001b[0m \u001b[0;34m=\u001b[0m \u001b[0mnp\u001b[0m\u001b[0;34m.\u001b[0m\u001b[0mma\u001b[0m\u001b[0;34m.\u001b[0m\u001b[0mravel\u001b[0m\u001b[0;34m(\u001b[0m\u001b[0my\u001b[0m\u001b[0;34m)\u001b[0m\u001b[0;34m\u001b[0m\u001b[0;34m\u001b[0m\u001b[0m\n\u001b[1;32m   4440\u001b[0m         \u001b[0;32mif\u001b[0m \u001b[0mx\u001b[0m\u001b[0;34m.\u001b[0m\u001b[0msize\u001b[0m \u001b[0;34m!=\u001b[0m \u001b[0my\u001b[0m\u001b[0;34m.\u001b[0m\u001b[0msize\u001b[0m\u001b[0;34m:\u001b[0m\u001b[0;34m\u001b[0m\u001b[0;34m\u001b[0m\u001b[0m\n\u001b[0;32m-> 4441\u001b[0;31m             \u001b[0;32mraise\u001b[0m \u001b[0mValueError\u001b[0m\u001b[0;34m(\u001b[0m\u001b[0;34m\"x and y must be the same size\"\u001b[0m\u001b[0;34m)\u001b[0m\u001b[0;34m\u001b[0m\u001b[0;34m\u001b[0m\u001b[0m\n\u001b[0m\u001b[1;32m   4442\u001b[0m \u001b[0;34m\u001b[0m\u001b[0m\n\u001b[1;32m   4443\u001b[0m         \u001b[0;32mif\u001b[0m \u001b[0ms\u001b[0m \u001b[0;32mis\u001b[0m \u001b[0;32mNone\u001b[0m\u001b[0;34m:\u001b[0m\u001b[0;34m\u001b[0m\u001b[0;34m\u001b[0m\u001b[0m\n",
      "\u001b[0;31mValueError\u001b[0m: x and y must be the same size"
     ]
    },
    {
     "data": {
      "image/png": "[encoded data removed]",
      "text/plain": [
       "<Figure size 432x288 with 1 Axes>"
      ]
     },
     "metadata": {
      "needs_background": "light"
     },
     "output_type": "display_data"
    }
   ],
   "source": [
    "# print(\"For learning rate: {}\".format(rate))\t\n",
    "# print(\"Average loss: {}\".format(avg_loss/10))\t\n",
    "# print(\"Average accuracy: {}%\".format(avg_acc*10))\n",
    "# print(\"Average precision: {}%\".format(avg_prec*10))\n",
    "# print(\"Average recall: {}%\".format(avg_recall*10))\n",
    "# print(\"Average F1 Score: {}%\".format(avg_score*10))\t\n",
    "# x=np.linspace(0,10,10)\t\n",
    "# plt.scatter(x,test_acc)\t\n",
    "# plt.title(\"Accuracy\")\n",
    "# plt.show()\t"
   ]
  }
 ],
 "metadata": {
  "hide_input": false,
  "kernelspec": {
   "display_name": "Python 3",
   "language": "python",
   "name": "python3"
  },
  "language_info": {
   "codemirror_mode": {
    "name": "ipython",
    "version": 3
   },
   "file_extension": ".py",
   "mimetype": "text/x-python",
   "name": "python",
   "nbconvert_exporter": "python",
   "pygments_lexer": "ipython3",
   "version": "3.8.8"
  },
  "toc": {
   "base_numbering": 1,
   "nav_menu": {},
   "number_sections": true,
   "sideBar": true,
   "skip_h1_title": false,
   "title_cell": "Table of Contents",
   "title_sidebar": "Contents",
   "toc_cell": false,
   "toc_position": {},
   "toc_section_display": true,
   "toc_window_display": false
  },
  "varInspector": {
   "cols": {
    "lenName": 16,
    "lenType": 16,
    "lenVar": 40
   },
   "kernels_config": {
    "python": {
     "delete_cmd_postfix": "",
     "delete_cmd_prefix": "del ",
     "library": "var_list.py",
     "varRefreshCmd": "print(var_dic_list())"
    },
    "r": {
     "delete_cmd_postfix": ") ",
     "delete_cmd_prefix": "rm(",
     "library": "var_list.r",
     "varRefreshCmd": "cat(var_dic_list()) "
    }
   },
   "types_to_exclude": [
    "module",
    "function",
    "builtin_function_or_method",
    "instance",
    "_Feature"
   ],
   "window_display": false
  }
 },
 "nbformat": 4,
 "nbformat_minor": 5
}
