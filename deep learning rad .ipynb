{
 "cells": [
  {
   "cell_type": "code",
   "execution_count": 2,
   "id": "portable-gravity",
   "metadata": {
    "ExecuteTime": {
     "end_time": "2021-04-16T13:10:17.522613Z",
     "start_time": "2021-04-16T13:10:17.489768Z"
    }
   },
   "outputs": [],
   "source": [
    "%config Completer.use_jedi = False"
   ]
  },
  {
   "cell_type": "code",
   "execution_count": 1,
   "id": "bulgarian-credit",
   "metadata": {
    "ExecuteTime": {
     "end_time": "2021-04-16T13:09:56.892121Z",
     "start_time": "2021-04-16T13:09:50.674822Z"
    }
   },
   "outputs": [],
   "source": [
    "import numpy as np\n",
    "import matplotlib.pyplot as plt\n",
    "import pandas as pd\n",
    "import warnings\n",
    "from sklearn import preprocessing\n",
    "from math import exp,log\n",
    "warnings.filterwarnings( \"ignore\" )"
   ]
  },
  {
   "cell_type": "code",
   "execution_count": 4,
   "id": "passive-publisher",
   "metadata": {
    "ExecuteTime": {
     "end_time": "2021-04-16T13:13:24.408005Z",
     "start_time": "2021-04-16T13:13:24.085770Z"
    },
    "scrolled": true
   },
   "outputs": [
    {
     "name": "stdout",
     "output_type": "stream",
     "text": [
      "      att1      att2  att3      att4      att5      att6  class\n",
      "0      0.5  0.000000   0.0  0.255312  0.119067  0.011200      1\n",
      "1      0.5  0.000000   0.0  0.206545  0.112746  0.010525      1\n",
      "2      0.5  0.000000   0.0  0.240309  0.124250  0.008024      1\n",
      "3      0.5  0.000000   0.0  0.227445  0.090237  0.015839      1\n",
      "4      0.5  0.000000   0.0  0.210628  0.131742  0.012905      1\n",
      "...    ...       ...   ...       ...       ...       ...    ...\n",
      "1995   0.5  0.166667   0.2  0.440092  0.362127  0.240908     10\n",
      "1996   0.5  0.166667   0.2  0.401433  0.337088  0.235778     10\n",
      "1997   0.5  0.166667   0.2  0.266863  0.281739  0.144256     10\n",
      "1998   0.5  0.166667   0.2  0.329503  0.200078  0.166048     10\n",
      "1999   0.5  0.166667   0.2  0.261156  0.297726  0.146813     10\n",
      "\n",
      "[2000 rows x 7 columns]\n"
     ]
    }
   ],
   "source": [
    "data=pd.read_csv(\"dataset_NN.csv\")\n",
    "data1=data.iloc[:,:-1]\n",
    "data2=data.iloc[:,-1:]\n",
    "scaler = preprocessing.MinMaxScaler()\n",
    "names=['att1','att2','att3','att4','att5','att6']\n",
    "d = scaler.fit_transform(data1)\n",
    "data = pd.DataFrame(d,columns=names)\n",
    "data[\"class\"]=data2\n",
    "print(data)"
   ]
  },
  {
   "cell_type": "code",
   "execution_count": 5,
   "id": "deluxe-renaissance",
   "metadata": {
    "ExecuteTime": {
     "end_time": "2021-04-16T13:14:02.548220Z",
     "start_time": "2021-04-16T13:14:02.486198Z"
    }
   },
   "outputs": [],
   "source": [
    "train_data=data.sample(frac=0.7).reset_index(drop=True)\t\n",
    "test_data =data.drop(train_data.index).reset_index(drop=True)\n",
    "train_data = train_data.reset_index(drop=True)"
   ]
  },
  {
   "cell_type": "code",
   "execution_count": 6,
   "id": "southwest-cocktail",
   "metadata": {
    "ExecuteTime": {
     "end_time": "2021-04-16T13:14:17.364319Z",
     "start_time": "2021-04-16T13:14:17.352525Z"
    }
   },
   "outputs": [],
   "source": [
    "output_nodes=10\n",
    "hidden_nodes=8\n",
    "attributes=train_data.shape[1]-1\n",
    "wh = np.zeros((attributes,hidden_nodes))\n",
    "bh = np.zeros(hidden_nodes)\n",
    "wo = np.zeros((hidden_nodes,output_nodes))\n",
    "bo = np.zeros(output_nodes)         "
   ]
  },
  {
   "cell_type": "code",
   "execution_count": 7,
   "id": "earlier-launch",
   "metadata": {
    "ExecuteTime": {
     "end_time": "2021-04-16T13:14:34.001266Z",
     "start_time": "2021-04-16T13:14:33.995235Z"
    }
   },
   "outputs": [],
   "source": [
    "lr = 0.001\n",
    "loss_list = []\n",
    "x_values=[]"
   ]
  },
  {
   "cell_type": "code",
   "execution_count": 8,
   "id": "compatible-uncle",
   "metadata": {
    "ExecuteTime": {
     "end_time": "2021-04-16T13:14:52.906452Z",
     "start_time": "2021-04-16T13:14:52.892295Z"
    }
   },
   "outputs": [],
   "source": [
    "def leaky_relu(x):\n",
    "\ti=0\n",
    "\tfor k in x[0]:\n",
    "\t\tif k>0:\n",
    "\t\t\tx[0][i]=k\n",
    "\t\telse:\n",
    "\t\t\tx[0][i]=0\n",
    "\t\ti+=1\t\t\n",
    "\treturn x\n",
    "def der_leaky(x):\n",
    "\ti=0\n",
    "\tfor k in x:\n",
    "\t\tif k>0:\n",
    "\t\t\tx[i]=1\n",
    "\t\telse:\n",
    "\t\t\tx[i]=0\n",
    "\t\ti+=1\t\t\n",
    "\treturn x\t\n",
    "def softmax(x):\n",
    "\ttotal=0\n",
    "\ti=0\n",
    "\tfor k in x[0]:\n",
    "\t\tx[0][i]=exp(k)\n",
    "\t\ttotal+=exp(k)\n",
    "\t\ti+=1\n",
    "\ti=0\t\n",
    "\tfor k in x[0]:\n",
    "\t\tx[0][i]=k/total\n",
    "\t\ti+=1\n",
    "\treturn x\t\t"
   ]
  },
  {
   "cell_type": "code",
   "execution_count": 10,
   "id": "animated-compatibility",
   "metadata": {
    "ExecuteTime": {
     "end_time": "2021-04-16T13:15:25.075561Z",
     "start_time": "2021-04-16T13:15:24.928927Z"
    }
   },
   "outputs": [
    {
     "name": "stdout",
     "output_type": "stream",
     "text": [
      "[[0.1 0.1 0.1 0.1 0.1 0.1 0.1 0.1 0.1 0.1]]\n",
      "0.1\n",
      "[0. 0. 0. 0. 0. 0. 0. 1. 0. 0.]\n",
      "[[0.1 0.1 0.1 0.1 0.1 0.1 0.1 0.1 0.1 0.1]]\n",
      "0.1\n",
      "[0. 0. 0. 0. 0. 0. 0. 1. 0. 0.]\n",
      "[[0.1 0.1 0.1 0.1 0.1 0.1 0.1 0.1 0.1 0.1]]\n",
      "0.1\n",
      "[0. 0. 0. 0. 0. 0. 0. 1. 0. 0.]\n",
      "[[0.1 0.1 0.1 0.1 0.1 0.1 0.1 0.1 0.1 0.1]]\n",
      "0.1\n",
      "[0. 0. 0. 0. 0. 0. 0. 1. 0. 0.]\n",
      "[[0.1 0.1 0.1 0.1 0.1 0.1 0.1 0.1 0.1 0.1]]\n",
      "0.1\n",
      "[0. 0. 0. 0. 0. 0. 0. 1. 0. 0.]\n",
      "[[0.1 0.1 0.1 0.1 0.1 0.1 0.1 0.1 0.1 0.1]]\n",
      "0.1\n",
      "[0. 0. 0. 0. 0. 0. 0. 1. 0. 0.]\n",
      "[[0.1 0.1 0.1 0.1 0.1 0.1 0.1 0.1 0.1 0.1]]\n",
      "0.1\n",
      "[0. 0. 0. 0. 0. 0. 0. 1. 0. 0.]\n",
      "[[0.1 0.1 0.1 0.1 0.1 0.1 0.1 0.1 0.1 0.1]]\n",
      "0.1\n",
      "[0. 0. 0. 0. 0. 0. 0. 1. 0. 0.]\n",
      "[[0.1 0.1 0.1 0.1 0.1 0.1 0.1 0.1 0.1 0.1]]\n",
      "0.1\n",
      "[0. 0. 0. 0. 0. 0. 0. 1. 0. 0.]\n",
      "[[0.1 0.1 0.1 0.1 0.1 0.1 0.1 0.1 0.1 0.1]]\n",
      "0.1\n",
      "[0. 0. 0. 0. 0. 0. 0. 1. 0. 0.]\n",
      "[[0.09998    0.09998    0.10008003 0.09998    0.09998    0.09998\n",
      "  0.09998    0.10008001 0.09998    0.09998   ]]\n",
      "0.0999799950008674\n",
      "[0. 0. 0. 0. 0. 0. 0. 0. 1. 0.]\n",
      "[[0.09998    0.09998    0.10008003 0.09998    0.09998    0.09998\n",
      "  0.09998    0.10008001 0.09998    0.09998   ]]\n",
      "0.0999799950008674\n",
      "[0. 0. 0. 0. 0. 0. 0. 0. 1. 0.]\n",
      "[[0.09998    0.09998    0.10008003 0.09998    0.09998    0.09998\n",
      "  0.09998    0.10008001 0.09998    0.09998   ]]\n",
      "0.10008002500253327\n",
      "[0. 0. 0. 0. 0. 0. 0. 0. 1. 0.]\n",
      "[[0.09998    0.09998    0.10008003 0.09998    0.09998    0.09998\n",
      "  0.09998    0.10008001 0.09998    0.09998   ]]\n",
      "0.0999799950008674\n",
      "[0. 0. 0. 0. 0. 0. 0. 0. 1. 0.]\n",
      "[[0.09998    0.09998    0.10008003 0.09998    0.09998    0.09998\n",
      "  0.09998    0.10008001 0.09998    0.09998   ]]\n",
      "0.0999799950008674\n",
      "[0. 0. 0. 0. 0. 0. 0. 0. 1. 0.]\n",
      "[[0.09998    0.09998    0.10008003 0.09998    0.09998    0.09998\n",
      "  0.09998    0.10008001 0.09998    0.09998   ]]\n",
      "0.0999799950008674\n",
      "[0. 0. 0. 0. 0. 0. 0. 0. 1. 0.]\n",
      "[[0.09998    0.09998    0.10008003 0.09998    0.09998    0.09998\n",
      "  0.09998    0.10008001 0.09998    0.09998   ]]\n",
      "0.0999799950008674\n",
      "[0. 0. 0. 0. 0. 0. 0. 0. 1. 0.]\n",
      "[[0.09998    0.09998    0.10008003 0.09998    0.09998    0.09998\n",
      "  0.09998    0.10008001 0.09998    0.09998   ]]\n",
      "0.10008001499052732\n",
      "[0. 0. 0. 0. 0. 0. 0. 0. 1. 0.]\n",
      "[[0.09998    0.09998    0.10008003 0.09998    0.09998    0.09998\n",
      "  0.09998    0.10008001 0.09998    0.09998   ]]\n",
      "0.0999799950008674\n",
      "[0. 0. 0. 0. 0. 0. 0. 0. 1. 0.]\n",
      "[[0.09998    0.09998    0.10008003 0.09998    0.09998    0.09998\n",
      "  0.09998    0.10008001 0.09998    0.09998   ]]\n",
      "0.0999799950008674\n",
      "[0. 0. 0. 0. 0. 0. 0. 0. 1. 0.]\n",
      "[[0.09996    0.09996    0.10005999 0.09996    0.09996    0.10006001\n",
      "  0.09996    0.10005998 0.10006    0.09996   ]]\n",
      "0.09996000200533219\n",
      "[0. 0. 0. 0. 0. 1. 0. 0. 0. 0.]\n",
      "[[0.09996    0.09996    0.10005999 0.09996    0.09996    0.10006001\n",
      "  0.09996    0.10005998 0.10006    0.09996   ]]\n",
      "0.09996000200533219\n",
      "[0. 0. 0. 0. 0. 1. 0. 0. 0. 0.]\n",
      "[[0.09996    0.09996    0.10005999 0.09996    0.09996    0.10006001\n",
      "  0.09996    0.10005998 0.10006    0.09996   ]]\n",
      "0.10005999198800086\n",
      "[0. 0. 0. 0. 0. 1. 0. 0. 0. 0.]\n",
      "[[0.09996    0.09996    0.10005999 0.09996    0.09996    0.10006001\n",
      "  0.09996    0.10005998 0.10006    0.09996   ]]\n",
      "0.09996000200533219\n",
      "[0. 0. 0. 0. 0. 1. 0. 0. 0. 0.]\n",
      "[[0.09996    0.09996    0.10005999 0.09996    0.09996    0.10006001\n",
      "  0.09996    0.10005998 0.10006    0.09996   ]]\n",
      "0.09996000200533219\n",
      "[0. 0. 0. 0. 0. 1. 0. 0. 0. 0.]\n",
      "[[0.09996    0.09996    0.10005999 0.09996    0.09996    0.10006001\n",
      "  0.09996    0.10005998 0.10006    0.09996   ]]\n",
      "0.10006001200400269\n",
      "[0. 0. 0. 0. 0. 1. 0. 0. 0. 0.]\n",
      "[[0.09996    0.09996    0.10005999 0.09996    0.09996    0.10006001\n",
      "  0.09996    0.10005998 0.10006    0.09996   ]]\n",
      "0.09996000200533219\n",
      "[0. 0. 0. 0. 0. 1. 0. 0. 0. 0.]\n",
      "[[0.09996    0.09996    0.10005999 0.09996    0.09996    0.10006001\n",
      "  0.09996    0.10005998 0.10006    0.09996   ]]\n",
      "0.10005998198000239\n",
      "[0. 0. 0. 0. 0. 1. 0. 0. 0. 0.]\n",
      "[[0.09996    0.09996    0.10005999 0.09996    0.09996    0.10006001\n",
      "  0.09996    0.10005998 0.10006    0.09996   ]]\n",
      "0.10006000199600094\n",
      "[0. 0. 0. 0. 0. 1. 0. 0. 0. 0.]\n",
      "[[0.09996    0.09996    0.10005999 0.09996    0.09996    0.10006001\n",
      "  0.09996    0.10005998 0.10006    0.09996   ]]\n",
      "0.09996000200533219\n",
      "[0. 0. 0. 0. 0. 1. 0. 0. 0. 0.]\n",
      "[[0.09993999 0.09993999 0.10003994 0.09993999 0.09993999 0.10024023\n",
      "  0.09993999 0.10003993 0.10003995 0.09993999]]\n",
      "0.09993999100440126\n",
      "[0. 0. 0. 1. 0. 0. 0. 0. 0. 0.]\n",
      "[[0.09993999 0.09993999 0.10003994 0.09993999 0.09993999 0.10024023\n",
      "  0.09993999 0.10003993 0.10003995 0.09993999]]\n",
      "0.09993999100440126\n",
      "[0. 0. 0. 1. 0. 0. 0. 0. 0. 0.]\n",
      "[[0.09993999 0.09993999 0.10003994 0.09993999 0.09993999 0.10024023\n",
      "  0.09993999 0.10003993 0.10003995 0.09993999]]\n",
      "0.10003994096608294\n",
      "[0. 0. 0. 1. 0. 0. 0. 0. 0. 0.]\n",
      "[[0.09993999 0.09993999 0.10003994 0.09993999 0.09993999 0.10024023\n",
      "  0.09993999 0.10003993 0.10003995 0.09993999]]\n",
      "0.09993999100440126\n",
      "[0. 0. 0. 1. 0. 0. 0. 0. 0. 0.]\n",
      "[[0.09993999 0.09993999 0.10003994 0.09993999 0.09993999 0.10024023\n",
      "  0.09993999 0.10003993 0.10003995 0.09993999]]\n",
      "0.09993999100440126\n",
      "[0. 0. 0. 1. 0. 0. 0. 0. 0. 0.]\n",
      "[[0.09993999 0.09993999 0.10003994 0.09993999 0.09993999 0.10024023\n",
      "  0.09993999 0.10003993 0.10003995 0.09993999]]\n",
      "0.10024023107534198\n",
      "[0. 0. 0. 1. 0. 0. 0. 0. 0. 0.]\n",
      "[[0.09993999 0.09993999 0.10003994 0.09993999 0.09993999 0.10024023\n",
      "  0.09993999 0.10003993 0.10003995 0.09993999]]\n",
      "0.09993999100440126\n",
      "[0. 0. 0. 1. 0. 0. 0. 0. 0. 0.]\n",
      "[[0.09993999 0.09993999 0.10003994 0.09993999 0.09993999 0.10024023\n",
      "  0.09993999 0.10003993 0.10003995 0.09993999]]\n",
      "0.10003993096209218\n",
      "[0. 0. 0. 1. 0. 0. 0. 0. 0. 0.]\n",
      "[[0.09993999 0.09993999 0.10003994 0.09993999 0.09993999 0.10024023\n",
      "  0.09993999 0.10003993 0.10003995 0.09993999]]\n",
      "0.10003995097007531\n",
      "[0. 0. 0. 1. 0. 0. 0. 0. 0. 0.]\n",
      "[[0.09993999 0.09993999 0.10003994 0.09993999 0.09993999 0.10024023\n",
      "  0.09993999 0.10003993 0.10003995 0.09993999]]\n",
      "0.09993999100440126\n",
      "[0. 0. 0. 1. 0. 0. 0. 0. 0. 0.]\n",
      "[[0.09992001 0.09992001 0.10001992 0.10001997 0.09992001 0.10022013\n",
      "  0.09992001 0.10001991 0.10012    0.09992001]]\n",
      "0.09992001202106636\n",
      "[0. 0. 0. 0. 0. 1. 0. 0. 0. 0.]\n",
      "[[0.09992001 0.09992001 0.10001992 0.10001997 0.09992001 0.10022013\n",
      "  0.09992001 0.10001991 0.10012    0.09992001]]\n",
      "0.09992001202106636\n",
      "[0. 0. 0. 0. 0. 1. 0. 0. 0. 0.]\n",
      "[[0.09992001 0.09992001 0.10001992 0.10001997 0.09992001 0.10022013\n",
      "  0.09992001 0.10001991 0.10012    0.09992001]]\n",
      "0.10001992200979361\n",
      "[0. 0. 0. 0. 0. 1. 0. 0. 0. 0.]\n",
      "[[0.09992001 0.09992001 0.10001992 0.10001997 0.09992001 0.10022013\n",
      "  0.09992001 0.10001991 0.10012    0.09992001]]\n",
      "0.10001997200975497\n",
      "[0. 0. 0. 0. 0. 1. 0. 0. 0. 0.]\n",
      "[[0.09992001 0.09992001 0.10001992 0.10001997 0.09992001 0.10022013\n",
      "  0.09992001 0.10001991 0.10012    0.09992001]]\n",
      "0.09992001202106636\n",
      "[0. 0. 0. 0. 0. 1. 0. 0. 0. 0.]\n",
      "[[0.09992001 0.09992001 0.10001992 0.10001997 0.09992001 0.10022013\n",
      "  0.09992001 0.10001991 0.10012    0.09992001]]\n",
      "0.10022013189688082\n",
      "[0. 0. 0. 0. 0. 1. 0. 0. 0. 0.]\n",
      "[[0.09992001 0.09992001 0.10001992 0.10001997 0.09992001 0.10022013\n",
      "  0.09992001 0.10001991 0.10012    0.09992001]]\n",
      "0.09992001202106636\n",
      "[0. 0. 0. 0. 0. 1. 0. 0. 0. 0.]\n",
      "[[0.09992001 0.09992001 0.10001992 0.10001997 0.09992001 0.10022013\n",
      "  0.09992001 0.10001991 0.10012    0.09992001]]\n",
      "0.10001991200980576\n",
      "[0. 0. 0. 0. 0. 1. 0. 0. 0. 0.]\n",
      "[[0.09992001 0.09992001 0.10001992 0.10001997 0.09992001 0.10022013\n",
      "  0.09992001 0.10001991 0.10012    0.09992001]]\n",
      "0.10012000196843304\n",
      "[0. 0. 0. 0. 0. 1. 0. 0. 0. 0.]\n",
      "[[0.09992001 0.09992001 0.10001992 0.10001997 0.09992001 0.10022013\n",
      "  0.09992001 0.10001991 0.10012    0.09992001]]\n",
      "0.09992001202106636\n",
      "[0. 0. 0. 0. 0. 1. 0. 0. 0. 0.]\n"
     ]
    }
   ],
   "source": [
    "\n",
    "for itr in range(10):\n",
    "\td=train_data.sample()\n",
    "\tinp=np.array(d.iloc[:,:-1].values)\n",
    "\tvalue=d.iloc[:,-1:].values\n",
    "\toutput=np.zeros(output_nodes)\n",
    "\toutput[value[0]-1]=1\n",
    "\t#forward\n",
    "\tzh=np.dot(inp,wh)+bh   #1*8\n",
    "\tah=leaky_relu(zh)   #1*8\n",
    "\tzo=np.dot(ah,wo)+bo  # 1*10\n",
    "\tao=softmax(zo)  #1*10\n",
    "\t#backward\n",
    "\tdcost_dzo=ao-output  #1*10\n",
    "\tdzo_dwo=ah           #1*8\n",
    "\tdcost_dwo=np.dot(dzo_dwo.T,dcost_dzo)  #8*10\n",
    "\tdcost_dbo=ao-output # 1*10\n",
    "\tdzo_dah=wo        #8*10\n",
    "\tdah_dzh=der_leaky(zh[0])  #1*8\n",
    "\tdzh_dwh=inp   #1*6\n",
    "\tdcost_dah=np.dot(dcost_dzo,dzo_dah.T) # 1*8\n",
    "\tdcost_dwh=np.dot(dzh_dwh.T,dcost_dah*dah_dzh)       #6*8\n",
    "\tdcost_dbh=dcost_dah*dah_dzh\n",
    "\twh=wh-(lr*dcost_dwh)\n",
    "\tbh=bh-(lr*dcost_dbh)\n",
    "\two=wo-(lr*dcost_dwo)\n",
    "\tbo=bo-(lr*dcost_dbo)\n",
    "\tloss=0\n",
    "\tif itr%2==0:\n",
    "\t\tfor j in range(output_nodes):\n",
    "\t\t\tprint(ao)\n",
    "\t\t\tprint(ao[0][j])\n",
    "\t\t\tprint(output)\n",
    "\t\t\tloss-=(output[j]*log(ao[0][j]))\n",
    "\t\tloss_list.append(loss)\n",
    "\t\tx_values.append(itr)"
   ]
  },
  {
   "cell_type": "code",
   "execution_count": 11,
   "id": "fiscal-timing",
   "metadata": {
    "ExecuteTime": {
     "end_time": "2021-04-16T13:16:44.400807Z",
     "start_time": "2021-04-16T13:16:43.818230Z"
    }
   },
   "outputs": [
    {
     "data": {
      "image/png": "[encoded data removed]",
      "text/plain": [
       "<Figure size 432x288 with 1 Axes>"
      ]
     },
     "metadata": {
      "needs_background": "light"
     },
     "output_type": "display_data"
    }
   ],
   "source": [
    "plt.scatter(x_values,loss_list)\t\n",
    "plt.title(\"Loss\")\n",
    "plt.show()\t"
   ]
  }
 ],
 "metadata": {
  "hide_input": false,
  "kernelspec": {
   "display_name": "Python 3",
   "language": "python",
   "name": "python3"
  },
  "language_info": {
   "codemirror_mode": {
    "name": "ipython",
    "version": 3
   },
   "file_extension": ".py",
   "mimetype": "text/x-python",
   "name": "python",
   "nbconvert_exporter": "python",
   "pygments_lexer": "ipython3",
   "version": "3.8.8"
  },
  "toc": {
   "base_numbering": 1,
   "nav_menu": {},
   "number_sections": true,
   "sideBar": true,
   "skip_h1_title": false,
   "title_cell": "Table of Contents",
   "title_sidebar": "Contents",
   "toc_cell": false,
   "toc_position": {},
   "toc_section_display": true,
   "toc_window_display": false
  },
  "varInspector": {
   "cols": {
    "lenName": 16,
    "lenType": 16,
    "lenVar": 40
   },
   "kernels_config": {
    "python": {
     "delete_cmd_postfix": "",
     "delete_cmd_prefix": "del ",
     "library": "var_list.py",
     "varRefreshCmd": "print(var_dic_list())"
    },
    "r": {
     "delete_cmd_postfix": ") ",
     "delete_cmd_prefix": "rm(",
     "library": "var_list.r",
     "varRefreshCmd": "cat(var_dic_list()) "
    }
   },
   "types_to_exclude": [
    "module",
    "function",
    "builtin_function_or_method",
    "instance",
    "_Feature"
   ],
   "window_display": false
  }
 },
 "nbformat": 4,
 "nbformat_minor": 5
}
